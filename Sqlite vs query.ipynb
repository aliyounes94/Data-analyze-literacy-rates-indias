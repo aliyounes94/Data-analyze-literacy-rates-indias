{
 "cells": [
  {
   "cell_type": "code",
   "execution_count": 2,
   "id": "9d6eb40e-3802-44e8-b8cd-24c65e618741",
   "metadata": {},
   "outputs": [],
   "source": [
    "##Python package that provides fast, flexible, and expressive data structures\n",
    "import pandas as pd"
   ]
  },
  {
   "cell_type": "code",
   "execution_count": 3,
   "id": "8fc7bcba-0641-453b-b520-7e7d25649f29",
   "metadata": {},
   "outputs": [
    {
     "name": "stdout",
     "output_type": "stream",
     "text": [
      "  State 1  State 2  Year Gender Age Group Type of Area  Literacy Rate (%)\n",
      "0  Andhra  Pradesh  2000   Male     15-24        Urban              68.73\n",
      "1  Andhra  Pradesh  2000   Male     15-24        Rural              97.54\n",
      "2  Andhra  Pradesh  2000   Male     25-34        Urban              86.60\n",
      "3  Andhra  Pradesh  2000   Male     25-34        Rural              79.93\n",
      "4  Andhra  Pradesh  2000   Male     35-44        Urban              57.80\n"
     ]
    }
   ],
   "source": [
    "## importing csv file for processing\n",
    "df = pd.read_csv('literacy-rates-indias_cleaned.csv')\n",
    "print(df.head())  ## show file first data"
   ]
  },
  {
   "cell_type": "code",
   "execution_count": 4,
   "id": "39921a6e-6dd1-4e44-965a-7e9450507f1a",
   "metadata": {},
   "outputs": [
    {
     "data": {
      "text/plain": [
       "7820"
      ]
     },
     "execution_count": 4,
     "metadata": {},
     "output_type": "execute_result"
    }
   ],
   "source": [
    "import sqlite3\n",
    "\n",
    "# Connect to an in-memory SQLite database\n",
    "conn = sqlite3.connect(':memory:')\n",
    "\n",
    "# Save the DataFrame to the database\n",
    "df.to_sql('literacy_data', conn, index=False)"
   ]
  },
  {
   "cell_type": "code",
   "execution_count": 13,
   "id": "0d9aeaaa-ecf8-4cac-87fc-48502bd259c7",
   "metadata": {},
   "outputs": [
    {
     "name": "stdout",
     "output_type": "stream",
     "text": [
      "     State  Avg_Literacy_Rate  Max_Literacy_Rate  Record_Count\n",
      "0     None          74.891111              99.98          5520\n",
      "1   Bengal          73.856630              99.95           460\n",
      "2     Nadu          74.700457              99.96           460\n",
      "3  Pradesh          74.598942              99.99          1380\n"
     ]
    }
   ],
   "source": [
    "##5 Split-apply-combine with SQL and pandas\n",
    "# Define the SQL query\n",
    "query = \"\"\"\n",
    "SELECT \n",
    "    `State 2` AS State,\n",
    "    AVG(`Literacy Rate (%)`) AS Avg_Literacy_Rate,\n",
    "    MAX(`Literacy Rate (%)`) AS Max_Literacy_Rate,\n",
    "    COUNT(*) AS Record_Count\n",
    "FROM \n",
    "    literacy_data\n",
    "GROUP BY \n",
    "    `State 2`;\n",
    "\"\"\"\n",
    "\n",
    "# Execute the query and load the result into a DataFrame\n",
    "result = pd.read_sql_query(query, conn)\n",
    "\n",
    "# Display the result\n",
    "print(result)"
   ]
  },
  {
   "cell_type": "code",
   "execution_count": null,
   "id": "62dfd885-a1bb-4e97-a38d-379762a19165",
   "metadata": {},
   "outputs": [],
   "source": []
  },
  {
   "cell_type": "code",
   "execution_count": null,
   "id": "1540c8be-3af0-41ad-bfbb-570764579c1b",
   "metadata": {},
   "outputs": [],
   "source": []
  }
 ],
 "metadata": {
  "kernelspec": {
   "display_name": "Python 3 (ipykernel)",
   "language": "python",
   "name": "python3"
  },
  "language_info": {
   "codemirror_mode": {
    "name": "ipython",
    "version": 3
   },
   "file_extension": ".py",
   "mimetype": "text/x-python",
   "name": "python",
   "nbconvert_exporter": "python",
   "pygments_lexer": "ipython3",
   "version": "3.11.0"
  }
 },
 "nbformat": 4,
 "nbformat_minor": 5
}
