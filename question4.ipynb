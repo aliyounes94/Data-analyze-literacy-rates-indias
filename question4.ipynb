{
 "cells": [
  {
   "cell_type": "code",
   "execution_count": 8,
   "id": "4e527689-5e17-4025-aada-2cb06f0c7f2a",
   "metadata": {},
   "outputs": [],
   "source": [
    "import pandas as pd\n"
   ]
  },
  {
   "cell_type": "code",
   "execution_count": 10,
   "id": "428235c9-aa3c-4635-9b3a-48d4057992aa",
   "metadata": {},
   "outputs": [
    {
     "name": "stdout",
     "output_type": "stream",
     "text": [
      "   Temperature  Humidity  Wind_Speed  Rainfall\n",
      "0           30        60          10         5\n",
      "1           32        55          12         3\n",
      "2           35        50           8         0\n",
      "3           28        65          15         8\n",
      "4           25        70          20        12\n"
     ]
    }
   ],
   "source": [
    "## importing csv file for processing\n",
    "df = pd.read_csv('weather.csv')\n",
    "print(df.head())  ## show file first data"
   ]
  },
  {
   "cell_type": "code",
   "execution_count": 11,
   "id": "9e53e5b4-7ccc-412c-b0ad-44b0f54b5e96",
   "metadata": {},
   "outputs": [
    {
     "name": "stdout",
     "output_type": "stream",
     "text": [
      "Shape of the dataset: (10, 4)\n"
     ]
    }
   ],
   "source": [
    "# Print the shape of the dataset\n",
    "print(\"Shape of the dataset:\", df.shape)"
   ]
  },
  {
   "cell_type": "code",
   "execution_count": 12,
   "id": "a8292dda-457b-4dfe-8a89-b8169b4ee619",
   "metadata": {},
   "outputs": [
    {
     "name": "stdout",
     "output_type": "stream",
     "text": [
      "\n",
      "Information about the dataset:\n",
      "<class 'pandas.core.frame.DataFrame'>\n",
      "RangeIndex: 10 entries, 0 to 9\n",
      "Data columns (total 4 columns):\n",
      " #   Column       Non-Null Count  Dtype\n",
      "---  ------       --------------  -----\n",
      " 0   Temperature  10 non-null     int64\n",
      " 1   Humidity     10 non-null     int64\n",
      " 2   Wind_Speed   10 non-null     int64\n",
      " 3   Rainfall     10 non-null     int64\n",
      "dtypes: int64(4)\n",
      "memory usage: 448.0 bytes\n",
      "None\n"
     ]
    }
   ],
   "source": [
    "# Print information about the dataset\n",
    "print(\"\\nInformation about the dataset:\")\n",
    "print(df.info())"
   ]
  },
  {
   "cell_type": "code",
   "execution_count": 13,
   "id": "3ddbe979-bb04-4935-8442-ae5a30cc80cf",
   "metadata": {},
   "outputs": [
    {
     "name": "stdout",
     "output_type": "stream",
     "text": [
      "\n",
      "Statistical Summary of the dataset:\n",
      "       Temperature   Humidity  Wind_Speed   Rainfall\n",
      "count    10.000000  10.000000   10.000000  10.000000\n",
      "mean     29.600000  63.500000   14.300000   6.600000\n",
      "std       3.204164   7.947746    4.029061   4.718757\n",
      "min      25.000000  50.000000    8.000000   0.000000\n",
      "25%      27.250000  58.500000   11.250000   3.250000\n",
      "50%      29.500000  63.500000   14.500000   6.000000\n",
      "75%      31.750000  69.500000   17.500000   9.500000\n",
      "max      35.000000  75.000000   20.000000  15.000000\n"
     ]
    }
   ],
   "source": [
    "# Print statistical summary\n",
    "print(\"\\nStatistical Summary of the dataset:\")\n",
    "print(df.describe())"
   ]
  },
  {
   "cell_type": "code",
   "execution_count": 14,
   "id": "420183c4-cc07-462d-9df0-4c558566a968",
   "metadata": {},
   "outputs": [
    {
     "name": "stdout",
     "output_type": "stream",
     "text": [
      "\n",
      "Pairwise Correlation Matrix:\n",
      "             Temperature  Humidity  Wind_Speed  Rainfall\n",
      "Temperature     1.000000 -0.920622   -0.927807 -0.959750\n",
      "Humidity       -0.920622  1.000000    0.924713  0.900657\n",
      "Wind_Speed     -0.927807  0.924713    1.000000  0.918710\n",
      "Rainfall       -0.959750  0.900657    0.918710  1.000000\n",
      "\n",
      "Strongest Positive Correlation:\n",
      "Humidity  Wind_Speed    0.924713\n",
      "dtype: float64\n"
     ]
    }
   ],
   "source": [
    "# Calculate pairwise correlation\n",
    "correlation_matrix = df.corr()\n",
    "\n",
    "# Print the correlation matrix\n",
    "print(\"\\nPairwise Correlation Matrix:\")\n",
    "print(correlation_matrix)\n",
    "\n",
    "# Identify the strongest positive correlation\n",
    "strongest_positive_corr = correlation_matrix.unstack().sort_values(ascending=False)\n",
    "strongest_positive_corr = strongest_positive_corr[strongest_positive_corr < 1].head(1)\n",
    "print(\"\\nStrongest Positive Correlation:\")\n",
    "print(strongest_positive_corr)"
   ]
  },
  {
   "cell_type": "code",
   "execution_count": null,
   "id": "ba06121d-d5c7-4757-8c25-378a1a377e11",
   "metadata": {},
   "outputs": [],
   "source": []
  }
 ],
 "metadata": {
  "kernelspec": {
   "display_name": "Python 3 (ipykernel)",
   "language": "python",
   "name": "python3"
  },
  "language_info": {
   "codemirror_mode": {
    "name": "ipython",
    "version": 3
   },
   "file_extension": ".py",
   "mimetype": "text/x-python",
   "name": "python",
   "nbconvert_exporter": "python",
   "pygments_lexer": "ipython3",
   "version": "3.11.0"
  }
 },
 "nbformat": 4,
 "nbformat_minor": 5
}
