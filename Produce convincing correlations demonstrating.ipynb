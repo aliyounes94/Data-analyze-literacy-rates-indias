{
 "cells": [
  {
   "cell_type": "code",
   "execution_count": 1,
   "id": "9d6eb40e-3802-44e8-b8cd-24c65e618741",
   "metadata": {},
   "outputs": [],
   "source": [
    "##Python package that provides fast, flexible, and expressive data structures\n",
    "import pandas as pd"
   ]
  },
  {
   "cell_type": "code",
   "execution_count": 2,
   "id": "8fc7bcba-0641-453b-b520-7e7d25649f29",
   "metadata": {},
   "outputs": [
    {
     "name": "stdout",
     "output_type": "stream",
     "text": [
      "  State 1  State 2  Year Gender Age Group Type of Area  Literacy Rate (%)\n",
      "0  Andhra  Pradesh  2000   Male     15-24        Urban              68.73\n",
      "1  Andhra  Pradesh  2000   Male     15-24        Rural              97.54\n",
      "2  Andhra  Pradesh  2000   Male     25-34        Urban              86.60\n",
      "3  Andhra  Pradesh  2000   Male     25-34        Rural              79.93\n",
      "4  Andhra  Pradesh  2000   Male     35-44        Urban              57.80\n"
     ]
    }
   ],
   "source": [
    "## importing csv file for processing\n",
    "df = pd.read_csv('literacy-rates-indias_cleaned.csv')\n",
    "print(df.head())  ## show file first data"
   ]
  },
  {
   "cell_type": "code",
   "execution_count": 3,
   "id": "cbf4109c-3933-43ee-bdb9-8609ebb6dc98",
   "metadata": {},
   "outputs": [
    {
     "name": "stdout",
     "output_type": "stream",
     "text": [
      "Pearson Correlation: -0.0030673882654887403, P-value: 0.7862304731356816\n"
     ]
    }
   ],
   "source": [
    "\n",
    "from scipy.stats import pearsonr\n",
    "\n",
    "# Extract Year and Literacy Rate columns\n",
    "year = df['Year']\n",
    "literacy_rate = df['Literacy Rate (%)']\n",
    "\n",
    "# Calculate Pearson's correlation\n",
    "correlation, p_value = pearsonr(year, literacy_rate)\n",
    "\n",
    "print(f\"Pearson Correlation: {correlation}, P-value: {p_value}\")"
   ]
  },
  {
   "cell_type": "code",
   "execution_count": 4,
   "id": "212de8e8-8a65-4394-b8ce-c701b94d25c2",
   "metadata": {},
   "outputs": [
    {
     "ename": "ModuleNotFoundError",
     "evalue": "No module named 'statsmodels'",
     "output_type": "error",
     "traceback": [
      "\u001b[31m---------------------------------------------------------------------------\u001b[39m",
      "\u001b[31mModuleNotFoundError\u001b[39m                       Traceback (most recent call last)",
      "\u001b[36mCell\u001b[39m\u001b[36m \u001b[39m\u001b[32mIn[4]\u001b[39m\u001b[32m, line 1\u001b[39m\n\u001b[32m----> \u001b[39m\u001b[32m1\u001b[39m \u001b[38;5;28;01mimport\u001b[39;00m\u001b[38;5;250m \u001b[39m\u001b[34;01mstatsmodels\u001b[39;00m\u001b[34;01m.\u001b[39;00m\u001b[34;01mapi\u001b[39;00m\u001b[38;5;250m \u001b[39m\u001b[38;5;28;01mas\u001b[39;00m\u001b[38;5;250m \u001b[39m\u001b[34;01msm\u001b[39;00m\n\u001b[32m      2\u001b[39m \u001b[38;5;28;01mfrom\u001b[39;00m\u001b[38;5;250m \u001b[39m\u001b[34;01mstatsmodels\u001b[39;00m\u001b[34;01m.\u001b[39;00m\u001b[34;01mformula\u001b[39;00m\u001b[34;01m.\u001b[39;00m\u001b[34;01mapi\u001b[39;00m\u001b[38;5;250m \u001b[39m\u001b[38;5;28;01mimport\u001b[39;00m ols\n\u001b[32m      4\u001b[39m \u001b[38;5;66;03m# Perform ANOVA\u001b[39;00m\n",
      "\u001b[31mModuleNotFoundError\u001b[39m: No module named 'statsmodels'"
     ]
    }
   ],
   "source": [
    "import statsmodels.api as sm\n",
    "from statsmodels.formula.api import ols\n",
    "\n",
    "# Perform ANOVA\n",
    "model = ols('Q(\"Literacy Rate (%)\") ~ C(Gender)', data=df).fit()\n",
    "anova_table = sm.stats.anova_lm(model, typ=2)\n",
    "print(anova_table)"
   ]
  },
  {
   "cell_type": "code",
   "execution_count": null,
   "id": "39921a6e-6dd1-4e44-965a-7e9450507f1a",
   "metadata": {},
   "outputs": [],
   "source": []
  }
 ],
 "metadata": {
  "kernelspec": {
   "display_name": "Python 3 (ipykernel)",
   "language": "python",
   "name": "python3"
  },
  "language_info": {
   "codemirror_mode": {
    "name": "ipython",
    "version": 3
   },
   "file_extension": ".py",
   "mimetype": "text/x-python",
   "name": "python",
   "nbconvert_exporter": "python",
   "pygments_lexer": "ipython3",
   "version": "3.11.0"
  }
 },
 "nbformat": 4,
 "nbformat_minor": 5
}
