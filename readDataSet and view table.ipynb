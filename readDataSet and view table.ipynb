{
 "cells": [
  {
   "cell_type": "code",
   "execution_count": 1,
   "id": "0db363d0-169a-45fb-9e76-e13862a82b1f",
   "metadata": {},
   "outputs": [],
   "source": [
    "##Python package that provides fast, flexible, and expressive data structures\n",
    "import pandas as pd"
   ]
  },
  {
   "cell_type": "code",
   "execution_count": 2,
   "id": "28dadddc-daae-4a71-a3c3-f80b6cf9513d",
   "metadata": {},
   "outputs": [
    {
     "name": "stdout",
     "output_type": "stream",
     "text": [
      "            State  Year Gender Age Group Type of Area  Literacy Rate (%)\n",
      "0  Andhra Pradesh  2000   Male     15-24        Urban              68.73\n",
      "1  Andhra Pradesh  2000   Male     15-24        Rural              97.54\n",
      "2  Andhra Pradesh  2000   Male     25-34        Urban              86.60\n",
      "3  Andhra Pradesh  2000   Male     25-34        Rural              79.93\n",
      "4  Andhra Pradesh  2000   Male     35-44        Urban              57.80\n"
     ]
    }
   ],
   "source": [
    "## importing csv file for processing\n",
    "df = pd.read_csv('literacy_rates_indias.csv')\n",
    "print(df.head())  ## show file first data"
   ]
  },
  {
   "cell_type": "code",
   "execution_count": null,
   "id": "84325349-dd03-440a-9b0f-3a2859be9dca",
   "metadata": {},
   "outputs": [],
   "source": []
  },
  {
   "cell_type": "code",
   "execution_count": null,
   "id": "81ce69f4-79e1-4c14-b6ca-3bd3fef3e98e",
   "metadata": {},
   "outputs": [],
   "source": []
  }
 ],
 "metadata": {
  "kernelspec": {
   "display_name": "Python 3 (ipykernel)",
   "language": "python",
   "name": "python3"
  },
  "language_info": {
   "codemirror_mode": {
    "name": "ipython",
    "version": 3
   },
   "file_extension": ".py",
   "mimetype": "text/x-python",
   "name": "python",
   "nbconvert_exporter": "python",
   "pygments_lexer": "ipython3",
   "version": "3.11.0"
  }
 },
 "nbformat": 4,
 "nbformat_minor": 5
}
