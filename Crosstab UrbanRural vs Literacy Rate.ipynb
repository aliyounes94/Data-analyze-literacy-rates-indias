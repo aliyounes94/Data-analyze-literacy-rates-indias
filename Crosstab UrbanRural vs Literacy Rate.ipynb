{
 "cells": [
  {
   "cell_type": "code",
   "execution_count": 1,
   "id": "9d6eb40e-3802-44e8-b8cd-24c65e618741",
   "metadata": {},
   "outputs": [],
   "source": [
    "##Python package that provides fast, flexible, and expressive data structures\n",
    "import pandas as pd"
   ]
  },
  {
   "cell_type": "code",
   "execution_count": 3,
   "id": "8fc7bcba-0641-453b-b520-7e7d25649f29",
   "metadata": {},
   "outputs": [
    {
     "name": "stdout",
     "output_type": "stream",
     "text": [
      "  State 1  State 2  Year Gender Age Group Type of Area  Literacy Rate (%)\n",
      "0  Andhra  Pradesh  2000   Male     15-24        Urban              68.73\n",
      "1  Andhra  Pradesh  2000   Male     15-24        Rural              97.54\n",
      "2  Andhra  Pradesh  2000   Male     25-34        Urban              86.60\n",
      "3  Andhra  Pradesh  2000   Male     25-34        Rural              79.93\n",
      "4  Andhra  Pradesh  2000   Male     35-44        Urban              57.80\n"
     ]
    }
   ],
   "source": [
    "## importing csv file for processing\n",
    "df = pd.read_csv('literacy-rates-indias_cleaned.csv')\n",
    "print(df.head())  ## show file first data"
   ]
  },
  {
   "cell_type": "code",
   "execution_count": 4,
   "id": "cbf4109c-3933-43ee-bdb9-8609ebb6dc98",
   "metadata": {},
   "outputs": [
    {
     "name": "stdout",
     "output_type": "stream",
     "text": [
      "Literacy Rate (%)  High   Low\n",
      "Type of Area                 \n",
      "Rural              1944  1966\n",
      "Urban              1933  1977\n"
     ]
    }
   ],
   "source": [
    "# Create a crosstab\n",
    "crosstab = pd.crosstab(df['Type of Area'], df['Literacy Rate (%)'].apply(lambda x: 'High' if x >= 75 else 'Low'))\n",
    "print(crosstab)"
   ]
  },
  {
   "cell_type": "code",
   "execution_count": null,
   "id": "39921a6e-6dd1-4e44-965a-7e9450507f1a",
   "metadata": {},
   "outputs": [],
   "source": []
  }
 ],
 "metadata": {
  "kernelspec": {
   "display_name": "Python 3 (ipykernel)",
   "language": "python",
   "name": "python3"
  },
  "language_info": {
   "codemirror_mode": {
    "name": "ipython",
    "version": 3
   },
   "file_extension": ".py",
   "mimetype": "text/x-python",
   "name": "python",
   "nbconvert_exporter": "python",
   "pygments_lexer": "ipython3",
   "version": "3.11.0"
  }
 },
 "nbformat": 4,
 "nbformat_minor": 5
}
