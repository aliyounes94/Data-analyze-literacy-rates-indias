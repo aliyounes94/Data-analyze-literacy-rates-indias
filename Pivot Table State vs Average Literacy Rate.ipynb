{
 "cells": [
  {
   "cell_type": "code",
   "execution_count": 1,
   "id": "9d6eb40e-3802-44e8-b8cd-24c65e618741",
   "metadata": {},
   "outputs": [],
   "source": [
    "##Python package that provides fast, flexible, and expressive data structures\n",
    "import pandas as pd"
   ]
  },
  {
   "cell_type": "code",
   "execution_count": 2,
   "id": "8fc7bcba-0641-453b-b520-7e7d25649f29",
   "metadata": {},
   "outputs": [
    {
     "name": "stdout",
     "output_type": "stream",
     "text": [
      "  State 1  State 2  Year Gender Age Group Type of Area  Literacy Rate (%)\n",
      "0  Andhra  Pradesh  2000   Male     15-24        Urban              68.73\n",
      "1  Andhra  Pradesh  2000   Male     15-24        Rural              97.54\n",
      "2  Andhra  Pradesh  2000   Male     25-34        Urban              86.60\n",
      "3  Andhra  Pradesh  2000   Male     25-34        Rural              79.93\n",
      "4  Andhra  Pradesh  2000   Male     35-44        Urban              57.80\n"
     ]
    }
   ],
   "source": [
    "## importing csv file for processing\n",
    "df = pd.read_csv('literacy-rates-indias_cleaned.csv')\n",
    "print(df.head())  ## show file first data"
   ]
  },
  {
   "cell_type": "code",
   "execution_count": 6,
   "id": "39921a6e-6dd1-4e44-965a-7e9450507f1a",
   "metadata": {},
   "outputs": [
    {
     "name": "stdout",
     "output_type": "stream",
     "text": [
      "              mean                      \n",
      "State 2     Bengal       Nadu    Pradesh\n",
      "Gender                                  \n",
      "Female   73.107652  74.406739  75.128507\n",
      "Male     74.605609  74.994174  74.069377\n"
     ]
    }
   ],
   "source": [
    "# Pivot Table for calc sum an average\n",
    "\n",
    "pivot_table_multi_agg = pd.pivot_table(\n",
    "    df, \n",
    "    values='Literacy Rate (%)', \n",
    "    index='Gender', \n",
    "    columns='State 2', \n",
    "    aggfunc=['mean']\n",
    ")\n",
    "\n",
    "# show table\n",
    "print(pivot_table_multi_agg)"
   ]
  },
  {
   "cell_type": "code",
   "execution_count": null,
   "id": "0d9aeaaa-ecf8-4cac-87fc-48502bd259c7",
   "metadata": {},
   "outputs": [],
   "source": []
  }
 ],
 "metadata": {
  "kernelspec": {
   "display_name": "Python 3 (ipykernel)",
   "language": "python",
   "name": "python3"
  },
  "language_info": {
   "codemirror_mode": {
    "name": "ipython",
    "version": 3
   },
   "file_extension": ".py",
   "mimetype": "text/x-python",
   "name": "python",
   "nbconvert_exporter": "python",
   "pygments_lexer": "ipython3",
   "version": "3.11.0"
  }
 },
 "nbformat": 4,
 "nbformat_minor": 5
}
